{
 "cells": [
  {
   "cell_type": "markdown",
   "metadata": {},
   "source": [
    "# Train a Memristor\n",
    "\n",
    "Considering a single memrisotr, I want to use the dynamics od the conductance to make it converge to the desired value of conductance by applying a specific potential difference. The final goal is to train a whole network of memerisotrs, but we will start here with a sigle ionic channel and apply different potential shapes.\n",
    "\n",
    "In the specific system we consider, one node is a source and has potential $V_S = 5 V$ and the other node is an output node. The latter can be either clamped or not. The desired output in that node is $V_D = 4V$."
   ]
  },
  {
   "cell_type": "markdown",
   "metadata": {},
   "source": [
    "## Step Potential $V_F$ - $V_D$\n",
    "\n",
    "As a first attempt, we try with a potential which is a step function between the free potential and the desired potential."
   ]
  }
 ],
 "metadata": {
  "language_info": {
   "name": "python"
  }
 },
 "nbformat": 4,
 "nbformat_minor": 2
}
